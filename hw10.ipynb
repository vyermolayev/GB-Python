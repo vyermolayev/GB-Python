{
  "nbformat": 4,
  "nbformat_minor": 0,
  "metadata": {
    "colab": {
      "provenance": []
    },
    "kernelspec": {
      "name": "python3",
      "display_name": "Python 3"
    },
    "language_info": {
      "name": "python"
    }
  },
  "cells": [
    {
      "cell_type": "code",
      "execution_count": 11,
      "metadata": {
        "colab": {
          "base_uri": "https://localhost:8080/"
        },
        "id": "XP_GM2-evpcD",
        "outputId": "b0dacb7f-ca85-4071-f691-bf4cec4c0e74"
      },
      "outputs": [
        {
          "output_type": "stream",
          "name": "stdout",
          "text": [
            "hybrid human robot \n",
            "     0     0     1 \n",
            "     0     1     0 \n",
            "     0     1     0 \n",
            "     0     0     1 \n",
            "     0     1     0 \n",
            "     1     0     0 \n",
            "     0     0     1 \n",
            "     0     0     1 \n",
            "     1     0     0 \n",
            "     0     0     1 \n",
            "     0     1     0 \n",
            "     0     0     1 \n",
            "     0     0     1 \n",
            "     0     1     0 \n",
            "     1     0     0 \n",
            "     0     1     0 \n",
            "     1     0     0 \n",
            "     1     0     0 \n",
            "     0     1     0 \n",
            "     1     0     0 \n",
            "     0     1     0 \n",
            "     0     1     0 \n",
            "     1     0     0 \n",
            "     0     0     1 \n",
            "     1     0     0 \n",
            "     1     0     0 \n",
            "     0     0     1 \n",
            "     0     1     0 \n",
            "     0     0     1 \n",
            "     1     0     0 \n"
          ]
        }
      ],
      "source": [
        "import random\n",
        "import pandas as pd\n",
        "\n",
        "def getOneHot(data):\n",
        "  dataList = data.iloc[:, 0].tolist()\n",
        "  headers = set(dataList)\n",
        "  for name in headers:\n",
        "    print(name, end=' ')\n",
        "  print(\"\")\n",
        "  for obj in dataList:\n",
        "    displayInTable(obj, headers)\n",
        "\n",
        "  return\n",
        "\n",
        "def displayInTable(name, headers):\n",
        "  printVal = 0\n",
        "  for header in headers:\n",
        "    if header == name:\n",
        "      printVal = 1\n",
        "    else:\n",
        "      printVal = 0\n",
        "    print(f\"{printVal:>{len(header)}}\", end=' ')\n",
        "  print(\"\")\n",
        "  return\n",
        "\n",
        "lst = ['robot'] * 10\n",
        "lst += ['human'] * 10\n",
        "lst += ['hybrid'] * 10\n",
        "random.shuffle(lst)\n",
        "data = pd.DataFrame({'whoAmI':lst})\n",
        "\n",
        "getOneHot(data)"
      ]
    }
  ]
}