{
  "nbformat": 4,
  "nbformat_minor": 0,
  "metadata": {
    "colab": {
      "provenance": []
    },
    "kernelspec": {
      "name": "python3",
      "display_name": "Python 3"
    },
    "language_info": {
      "name": "python"
    }
  },
  "cells": [
    {
      "cell_type": "code",
      "execution_count": 5,
      "metadata": {
        "colab": {
          "base_uri": "https://localhost:8080/"
        },
        "id": "XP_GM2-evpcD",
        "outputId": "f8b060ca-67c8-40bb-d4be-50dbee87dd70"
      },
      "outputs": [
        {
          "output_type": "stream",
          "name": "stdout",
          "text": [
            "hybrid human robot \n",
            "     0     0     1 \n",
            "     0     1     0 \n",
            "     1     0     0 \n",
            "     0     1     0 \n",
            "     0     1     0 \n",
            "     0     0     1 \n",
            "     1     0     0 \n",
            "     0     0     1 \n",
            "     0     0     1 \n",
            "     1     0     0 \n",
            "     1     0     0 \n",
            "     0     0     1 \n",
            "     1     0     0 \n",
            "     0     0     1 \n",
            "     1     0     0 \n",
            "     1     0     0 \n",
            "     0     0     1 \n",
            "     0     1     0 \n",
            "     1     0     0 \n",
            "     0     0     1 \n",
            "     0     0     1 \n",
            "     0     1     0 \n",
            "     1     0     0 \n",
            "     0     1     0 \n",
            "     0     1     0 \n",
            "     0     1     0 \n",
            "     1     0     0 \n",
            "     0     1     0 \n",
            "     0     0     1 \n",
            "     0     1     0 \n"
          ]
        }
      ],
      "source": [
        "import random\n",
        "import pandas as pd\n",
        "\n",
        "def getOneHot(data):\n",
        "  dataList = data['whoAmI'].tolist()\n",
        "  headers = set(dataList)\n",
        "  for name in headers:\n",
        "    print(name, end=' ')\n",
        "  print(\"\")\n",
        "  for obj in dataList:\n",
        "    displayInTable(obj, headers)\n",
        "\n",
        "  return\n",
        "\n",
        "def displayInTable(name, headers):\n",
        "  printVal = 0\n",
        "  for header in headers:\n",
        "    if header == name:\n",
        "      printVal = 1\n",
        "    else:\n",
        "      printVal = 0\n",
        "    print(f\"{printVal:>{len(header)}}\", end=' ')\n",
        "  print(\"\")\n",
        "  return\n",
        "\n",
        "lst = ['robot'] * 10\n",
        "lst += ['human'] * 10\n",
        "lst += ['hybrid'] * 10\n",
        "random.shuffle(lst)\n",
        "data = pd.DataFrame({'whoAmI':lst})\n",
        "\n",
        "getOneHot(data)"
      ]
    }
  ]
}