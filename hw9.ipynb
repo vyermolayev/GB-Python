{
  "nbformat": 4,
  "nbformat_minor": 0,
  "metadata": {
    "colab": {
      "provenance": []
    },
    "kernelspec": {
      "name": "python3",
      "display_name": "Python 3"
    },
    "language_info": {
      "name": "python"
    }
  },
  "cells": [
    {
      "cell_type": "markdown",
      "source": [
        "Работать с файлом california_housing_train.csv, который находится в папке\n",
        "sample_data. Определить среднюю стоимость дома, где кол-во людей от 0 до 500 (population)"
      ],
      "metadata": {
        "id": "ziWIsn4TB8Ly"
      }
    },
    {
      "cell_type": "code",
      "execution_count": 27,
      "metadata": {
        "id": "7D1EoX2qBtOT"
      },
      "outputs": [],
      "source": [
        "import pandas as pd\n",
        "df = pd.read_csv('/content/sample_data/california_housing_train.csv')"
      ]
    },
    {
      "cell_type": "code",
      "source": [
        "df[(df['population']>= 0) & (df['population']<=500)]['median_house_value'].mean()"
      ],
      "metadata": {
        "colab": {
          "base_uri": "https://localhost:8080/"
        },
        "id": "5TPaHQzECN53",
        "outputId": "50ea2775-1f3a-40e8-cf0b-30a7a6e9c630"
      },
      "execution_count": 41,
      "outputs": [
        {
          "output_type": "execute_result",
          "data": {
            "text/plain": [
              "206799.95140186916"
            ]
          },
          "metadata": {},
          "execution_count": 41
        }
      ]
    },
    {
      "cell_type": "markdown",
      "source": [
        " Узнать какая максимальная households в зоне минимального значения population"
      ],
      "metadata": {
        "id": "_2OGdOlPETKE"
      }
    },
    {
      "cell_type": "code",
      "source": [
        "df[df['population'] == df['population'].min()]['households'].max()"
      ],
      "metadata": {
        "colab": {
          "base_uri": "https://localhost:8080/"
        },
        "id": "J0oKV7QhB7hi",
        "outputId": "a2edfd46-c482-4380-efff-fd69df092955"
      },
      "execution_count": 38,
      "outputs": [
        {
          "output_type": "execute_result",
          "data": {
            "text/plain": [
              "4.0"
            ]
          },
          "metadata": {},
          "execution_count": 38
        }
      ]
    }
  ]
}